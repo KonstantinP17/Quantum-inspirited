{
 "cells": [
  {
   "cell_type": "code",
   "execution_count": 2,
   "metadata": {},
   "outputs": [],
   "source": [
    "import numpy as np\n",
    "import matplotlib.pyplot as plt"
   ]
  },
  {
   "cell_type": "code",
   "execution_count": 9,
   "metadata": {},
   "outputs": [
    {
     "data": {
      "text/plain": [
       "array([[inf, inf],\n",
       "       [inf,  1.]])"
      ]
     },
     "execution_count": 9,
     "metadata": {},
     "output_type": "execute_result"
    }
   ],
   "source": [
    "a = np.zeros((2, 2), order = 'F')\n",
    "a[1][1] = 1\n",
    "a = np.where(a==0, np.inf, a)\n",
    "a"
   ]
  },
  {
   "cell_type": "code",
   "execution_count": null,
   "metadata": {},
   "outputs": [],
   "source": [
    "class NpSqrGraph:\n",
    "\n",
    "    def __init__ (self, size:int):\n",
    "        self.size = size\n",
    "        self.delmat = np.zeros((4, size**2), order='F')     #строки матрицы соотвествуют задержке при переходе вверх, вниз, вправо и влево. inf соотвествует отсутствию узла в соотвествующем направлении. Столбцы соответствуют узлам, нумерация по столбцам сверху вниз.\n",
    "        \n",
    "\n",
    "    def connect (self, delay:list):\n",
    "        if len(delay) != 2*self.size*(self.size - 1):\n",
    "            print( 'delay list length must be', 2*self.size*(self.size - 1))\n",
    "        else:\n",
    "            for i in range (0, self.size*(self.size - 1)):\n",
    "                self.delmat[1][i + int(i/(self.size - 1))] = self.delmat[0][i + int(i/(self.size - 1)) + 1] = delay[i]     #присваивание задержек вертикальным ребрам (нумерация по столбцам). Каналы считаются симметричными.\n",
    "                self.delmat[2][i] = self.delmat[3][i + self.size] = delay[i + self.size*(self.size - 1)]     #присваивание задержек вертикальным ребрам (нумерация по столбцам). Каналы считаются симметричными.\n",
    "            self.delmat = np.where(self.delmat == 0, np.inf, self.delmat) \n",
    "\n",
    "    def dkspreparation (self):\n",
    "        self.dks = np.zeros((3, self.size**2), order='F') #первая строка - флаг посещения вершины, вторая - текущая метка вершины, третья - путь, которым получена метка.\n",
    "        for i in self.dks[1]:\n",
    "            i = np.inf\n"
   ]
  },
  {
   "cell_type": "code",
   "execution_count": null,
   "metadata": {},
   "outputs": [],
   "source": [
    "class SqrGraph:\n",
    "\n",
    "    def __init__ (self, size: int):\n",
    "        self.size = size\n",
    "        self.delays = []\n",
    "        \n",
    "        \n",
    "    def delay_init (self, delays):\n",
    "        if len(delays) != 2*self.size*(self.size - 1):\n",
    "            print( 'delay list length must be', 2*self.size*(self.size - 1))\n",
    "        else:\n",
    "            for i in range (self.size**2):\n",
    "                self.delays += [[0, 0, 0, 0]]\n",
    "            for i in range (0, self.size*(self.size - 1)):\n",
    "                self.delays[i + int(i/(self.size - 1))][1] = self.delays[i + int(i/(self.size - 1)) + 1][0] = delays[i]     #присваивание задержек вертикальным ребрам (нумерация по столбцам). Каналы считаются симметричными.\n",
    "                self.delays[i][2] = self.delays[i + self.size][3] = delays[i + self.size*(self.size - 1)]    \n",
    "            for i in range (self.size):\n",
    "                self.delays[i][3] = self.delays[i*self.size][0] = self.delays[i*self.size - 1][1] = self.delays[self.size*(self.size - 1)+i][2] = None\n",
    "            \n",
    "    def deykstra (self, start: int):\n",
    "        \n",
    "\n"
   ]
  },
  {
   "cell_type": "code",
   "execution_count": 15,
   "metadata": {},
   "outputs": [
    {
     "name": "stdout",
     "output_type": "stream",
     "text": [
      "[[None, 5, 2, None], [5, 2, 1, None], [2, None, 5, None], [None, 3, 4, 2], [3, 5, 2, 1], [5, None, 4, 5], [None, 6, None, 4], [6, 2, None, 2], [2, None, None, 4]]\n"
     ]
    }
   ],
   "source": [
    "from random import randint\n",
    "\n",
    "net2 = SqrGraph(3)\n",
    "delay =[]\n",
    "for i in range (12):\n",
    "    delay += [randint(1, 6)]\n",
    "net2.delay_init(delay)\n",
    "print(net2.delays)\n"
   ]
  },
  {
   "cell_type": "code",
   "execution_count": null,
   "metadata": {},
   "outputs": [],
   "source": [
    "class SqrVertex:                        #класс, описывающий вершину графа (маршрутизатор)\n",
    "\n",
    "    def __init__(self, x: int, y: int, delays = [0, 0, 0, 0]):\n",
    "        self.x = x                      #номер строки вершины\n",
    "        self.y = y                      #номер столбца вершины\n",
    "        self.delays = delays            #задержки по различным направлениям (веса ребер) в порядке: вверх, вниз, влево, вправо\n",
    "        self.flag = 0                   #флаг, чтобы отмечать вершину как посещенную при обходе Дейкстрой\n",
    "        self.distance = float('inf')    #расстояние от какой-то выбранной вершины до данной\n",
    "        self.ways = []                  #массив с путями к другим вершинам\n",
    "\n",
    "class SqrNet:                           #класс, описывающий квадратную сеть\n",
    "\n",
    "    def __init__(self, N: int, delays: list):           #delays состоит из двух подмассивов - горизонтальные и вертикальные ребра. В каждом из подмассивов ребра занумерованы двумя индексами: строка+столбец (или столбец+строка)\n",
    "\n",
    "        if len(delays) != 2 or len(delays[1]) != N or len(delays[0]) != N: #проверим, что размер массива задержек (весов ребер) имеет корректыные размеры.\n",
    "            return \"delay list size error\"\n",
    "        \n",
    "        else:\n",
    "            for i in range (N):\n",
    "                if len(delays[0][i]) != N-1 or len(delays[1][i]) != N-1: #все еще проверяем размеры массива. По-хорошему еще бы положительность всех задержек проверять, иначе Дейкстра некорректен.\n",
    "                  return \"delay list size error\"  \n",
    "            self.delays = delays\n",
    "            self.size = N\n",
    "            self.vert_list = []         #это массив с вершинами\n",
    "            for i in range (N):\n",
    "                self.vert_list += [[]]\n",
    "                for j in range (N):\n",
    "                    self.vert_list[i] += [0]\n",
    "                    self.vert_list[i][j] = SqrVertex(i, j, delays = [float('inf'), float('inf'), float('inf'), float('inf')]) #инициализация вершин, по умолчанию все задержки бесконечны (граф несвязен)\n",
    "            \n",
    "            for i in range (N):\n",
    "                    for j in range (N-1):\n",
    "                        self.vert_list[i][j].delays[3] = self.vert_list[i][j+1].delays[2] = delays[0][i][j] #здесь присваиваем задержки. Предполагается, что каналы симметричны (задержка из а в b равна задержке из b в а)\n",
    "                        self.vert_list[j][i].delays[1] = self.vert_list[j+1][i].delays[0] = delays[1][i][j]\n",
    "    \n",
    "    def step(self, start: SqrVertex, direction: int):           #операция \"шага\" в определенном направлении (0 - вверх, 1 - вниз, 2 - влево, 3 - вправо)\n",
    "        if direction == 0 and start.delays[0]<float('inf'):     #сделал, потому что показалось удобным, хотя, возможно, это неоптимально\n",
    "            return self.vert_list[start.x - 1][start.y]\n",
    "        elif direction == 1 and start.delays[1]<float('inf'):\n",
    "            return self.vert_list[start.x + 1][start.y]\n",
    "        elif direction == 2 and start.delays[2]<float('inf'):\n",
    "            return self.vert_list[start.x][start.y - 1]\n",
    "        elif direction == 3 and start.delays[3]<float('inf'):\n",
    "            return self.vert_list[start.x][start.y+1]\n",
    "                              \n",
    "\n",
    "    def dijkstra (self, start_x: int, start_y: int):                                           #собственно, алгоритм Дейкстры\n",
    "        if not((start_x<self.size and start_x > -1) and (start_y<self.size and start_y > -1)): #проверка корректности координат вершины, относительно которой вычисляются пути\n",
    "            return \"no vertex with such coordinates\"\n",
    "        else:\n",
    "            for i in self.vert_list: \n",
    "                    for j in i:\n",
    "                        j.distance = float('inf')                   #сбрасываем все distancы в бесконечность (они могли быть изменены предыдущим вызовом Дейкстры)\n",
    "            start = self.vert_list[start_x][start_y]                #определение отправной вершины (расстояние до/от которой считаем)\n",
    "            start.distance = 0\n",
    "            for i in range (self.size):                             #формирование массива путей. Он организован как матрица, где ij-ой вершине соотвествует ij-ый массив из элементов {0, 1, 2, 3}  \n",
    "                start.ways += [[]]                                  #отражающих движение на каждом шаге {вверх, вниз, влево, вправо} соотвественно. Последним элементом массива пути до вершины будет его длина.\n",
    "                for j in range (self.size):\n",
    "                    start.ways[i] += [[]]\n",
    "            next_vert = self.vert_list[start_x - 1][start_y - 1]    #\"затравка\" для начала первой итерации Дейкстры\n",
    "            #подготовка к выполнению алгоритма завершена\n",
    "\n",
    "            for k in range (self.size**2):                          #обходим все вершины\n",
    "                for i in self.vert_list:\n",
    "                    for j in i:\n",
    "                        if j.flag == 0:\n",
    "                            if j.distance < next_vert.distance:\n",
    "                                next_vert = j                       #выбор еще не посещенной вершины с минимальным расстоянием до стартовой\n",
    "                for i in range (4):                                 #обходим все непосещенные соседние вершины\n",
    "                    if type(self.step(next_vert, i)) == SqrVertex:  #step может ничего не вернуть (например, если шаг был сделан за пределы графа). Отфильтруем содержательные случаи\n",
    "                        if self.step(next_vert, i).distance > next_vert.distance + next_vert.delays[i] and self.step(next_vert, i).flag == 0: #проверка, оказался ли данный путь короче уже существующих\n",
    "                            self.step(next_vert, i).distance = next_vert.distance + next_vert.delays[i] #присваивание вершине нового (меньшего) расстояния\n",
    "                            next_vert_1 = self.step(next_vert, i) \n",
    "                            start.ways[next_vert_1.x][next_vert_1.y] = start.ways[next_vert.x][next_vert.y] + [i] #корректеровка кратчайшего пути до вершины\n",
    "                next_vert.flag = 1                                  #поднятие флага о посещении вершины\n",
    "                start.ways[next_vert.x][next_vert.y].append(next_vert.distance) #путь до посещенной вершины больше не будет меняться, поэтому в конце добавим его длину, чтобы освободить distance для дальнейших выполнений алгоритма\n",
    "                next_vert = next_vert_1                             #переопределение потенциально следующей вершины\n",
    "                \n",
    "\n",
    "\n",
    "            \n",
    "                    \n",
    "\n",
    "        \n"
   ]
  },
  {
   "cell_type": "code",
   "execution_count": 67,
   "metadata": {},
   "outputs": [
    {
     "name": "stdout",
     "output_type": "stream",
     "text": [
      "[[[1, 2], [3, 4], [5, 6]], [[7, 8], [9, 10], [11, 12]]]\n",
      "[[[1, 2], [3, 4], [5, 6]], [[7, 8], [9, 10], [11, 12]]]\n",
      "[[[2, 2, 0, 0, 26], [2, 0, 0, 25], [0, 0, 23]], [[2, 2, 0, 19], [2, 0, 16], [0, 12]], [[2, 2, 11], [2, 6], [0]]]\n",
      "26 \n",
      " \n",
      "\n",
      "25 \n",
      " \n",
      "\n",
      "23 \n",
      " \n",
      "\n",
      "19 \n",
      " \n",
      "\n",
      "16 \n",
      " \n",
      "\n",
      "12 \n",
      " \n",
      "\n",
      "11 \n",
      " \n",
      "\n",
      "6 \n",
      " \n",
      "\n",
      "0 \n",
      " \n",
      "\n"
     ]
    }
   ],
   "source": [
    "\n",
    "N = 3\n",
    "delays = [[],[]]\n",
    "for i in range (N):\n",
    "    delays[0] += [[]]\n",
    "    delays[1] += [[]]\n",
    "    for j in range (N-1):\n",
    "        delays[0][i] += [0]\n",
    "        delays[1][i] += [0]\n",
    "\n",
    "for i in range (N):\n",
    "    for j in range (N-1):\n",
    "        delays[0][i][j] = (N-1)*i+j+1\n",
    "        delays[1][i][j] = (N-1)*i+j + N*(N-1)+1\n",
    "        \n",
    "\n",
    "\n",
    "print (delays)\n",
    "\n",
    "\n",
    "net3 = SqrNet(N, delays)\n",
    "#print(net3.vert_list)\n",
    "print(net3.delays)\n",
    "'''for i in net3.vert_list:\n",
    "    for j in i:\n",
    "        print(j.delays, '\\n', '\\n')'''\n",
    "net3.dijkstra(N-1,N-1)\n",
    "print(net3.vert_list[N-1][N-1].ways)\n",
    "for i in range (N):\n",
    "    for j in range (N):\n",
    "        print(net3.vert_list[i][j].distance, '\\n', '\\n')\n",
    "\n",
    "#print(float('inf')>5)\n"
   ]
  },
  {
   "cell_type": "code",
   "execution_count": null,
   "metadata": {},
   "outputs": [
    {
     "data": {
      "text/plain": [
       "[4, 4, 2, 2]"
      ]
     },
     "execution_count": 87,
     "metadata": {},
     "output_type": "execute_result"
    }
   ],
   "source": [
    "net2 = SqrNet(2, [[[1], [2]], [[3], [4]]])\n",
    "net2.vert_list[0][0].delays\n",
    "\n",
    "\n",
    "   '''try:\n",
    "                        self.vert_list[i][j].delays = [delays[1][j][i-1], delays[1][j][i], delays[0][i][j-1], delays[0][i][j]] #задержки присвоены в поредке: вверх, вниз, влево, вправо\n",
    "                    except IndexError:\n",
    "                        try:\n",
    "                            self.vert_list[i][j].delays[1] = delays[1][j][i]\n",
    "                        except: \n",
    "                            self.vert_list[i][j].delays[1] = None\n",
    "                        try:\n",
    "                            self.vert_list[i][j].delays[3] = delays[0][i][j]\n",
    "                        except: \n",
    "                            self.vert_list[i][j].delays[3] = None\n",
    "            \n",
    "            for i in range (1, N-1):\n",
    "                for j in range (1, N-1):\n",
    "                    self.vert_list[i][j].delays = [delays[1][j][i-1], delays[1][j][i], delays[0][i][j-1], delays[0][i][j]]\n",
    "            for i in range (N):\n",
    "                self.vert_list[i][0].delays[2] = self.vert_list[i][N-1].delays[3] = None\n",
    "                self.vert_list[i][0].delays = []\n",
    "            for j in range (N):\n",
    "                self.vert_list[0][j].delays[0] = self.vert_list[N-1][j].delays[1] = None'''\n",
    "                \n",
    "\n",
    "                 "
   ]
  }
 ],
 "metadata": {
  "kernelspec": {
   "display_name": "Python 3",
   "language": "python",
   "name": "python3"
  },
  "language_info": {
   "codemirror_mode": {
    "name": "ipython",
    "version": 3
   },
   "file_extension": ".py",
   "mimetype": "text/x-python",
   "name": "python",
   "nbconvert_exporter": "python",
   "pygments_lexer": "ipython3",
   "version": "3.10.6"
  }
 },
 "nbformat": 4,
 "nbformat_minor": 2
}
